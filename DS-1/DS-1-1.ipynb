{
 "cells": [
  {
   "cell_type": "code",
   "execution_count": 174,
   "metadata": {},
   "outputs": [],
   "source": [
    "from collections import Counter\n",
    "import re"
   ]
  },
  {
   "cell_type": "code",
   "execution_count": 184,
   "metadata": {},
   "outputs": [],
   "source": [
    "urls_text = open('URLs.txt', 'r')\n",
    "prog = re.compile( '[a-z]' )\n",
    "\n",
    "text_string = urls_text.read().split()\n",
    "articles_list = []\n",
    "\n",
    "for line in text_string:     \n",
    "    line = line[1:]\n",
    "    temp = line.find('/')\n",
    "    line = line[:temp]\n",
    "    if prog.match(line):\n",
    "        articles_list.append(line)\n"
   ]
  },
  {
   "cell_type": "code",
   "execution_count": 185,
   "metadata": {},
   "outputs": [
    {
     "data": {
      "text/plain": [
       "Counter({'articles': 7,\n",
       "         'auto': 1,\n",
       "         'business': 5,\n",
       "         'cis': 4,\n",
       "         'crazy-world': 2,\n",
       "         'economics': 3,\n",
       "         'europe': 1,\n",
       "         'finances': 1,\n",
       "         'head': 3,\n",
       "         'health': 2,\n",
       "         'incidents': 6,\n",
       "         'kinomusic': 1,\n",
       "         'latest': 2,\n",
       "         'lifestyle': 2,\n",
       "         'middleeast': 3,\n",
       "         'moscow_city': 1,\n",
       "         'politics': 11,\n",
       "         'science': 6,\n",
       "         'scitech': 1,\n",
       "         'sport': 3,\n",
       "         'starlife': 13,\n",
       "         'travel': 1,\n",
       "         'video': 10,\n",
       "         'world': 9})"
      ]
     },
     "execution_count": 185,
     "metadata": {},
     "output_type": "execute_result"
    }
   ],
   "source": [
    "c = Counter(articles_list)\n",
    "c"
   ]
  },
  {
   "cell_type": "code",
   "execution_count": null,
   "metadata": {},
   "outputs": [],
   "source": []
  },
  {
   "cell_type": "code",
   "execution_count": null,
   "metadata": {},
   "outputs": [],
   "source": []
  }
 ],
 "metadata": {
  "kernelspec": {
   "display_name": "Python 3",
   "language": "python",
   "name": "python3"
  },
  "language_info": {
   "codemirror_mode": {
    "name": "ipython",
    "version": 3
   },
   "file_extension": ".py",
   "mimetype": "text/x-python",
   "name": "python",
   "nbconvert_exporter": "python",
   "pygments_lexer": "ipython3",
   "version": "3.6.4"
  }
 },
 "nbformat": 4,
 "nbformat_minor": 2
}
