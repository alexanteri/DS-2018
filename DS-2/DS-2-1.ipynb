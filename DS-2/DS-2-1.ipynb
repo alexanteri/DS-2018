{
 "cells": [
  {
   "cell_type": "code",
   "execution_count": 6,
   "metadata": {},
   "outputs": [],
   "source": [
    "import pandas as pd"
   ]
  },
  {
   "cell_type": "code",
   "execution_count": 7,
   "metadata": {
    "scrolled": false
   },
   "outputs": [],
   "source": [
    "data = pd.read_csv('teams_stats.csv')"
   ]
  },
  {
   "cell_type": "code",
   "execution_count": 8,
   "metadata": {},
   "outputs": [
    {
     "data": {
      "text/plain": [
       "Year\n",
       "1950.0    18\n",
       "1951.0    12\n",
       "1952.0    11\n",
       "1953.0    11\n",
       "1954.0    10\n",
       "1955.0    10\n",
       "1956.0     9\n",
       "1957.0     9\n",
       "1958.0     9\n",
       "1959.0     9\n",
       "1960.0     9\n",
       "1961.0     9\n",
       "1962.0    10\n",
       "1963.0    10\n",
       "1964.0    10\n",
       "1965.0    10\n",
       "1966.0    10\n",
       "1967.0    11\n",
       "1968.0    13\n",
       "1969.0    15\n",
       "1970.0    15\n",
       "1971.0    18\n",
       "1972.0    18\n",
       "1973.0    18\n",
       "1974.0    18\n",
       "1975.0    19\n",
       "1976.0    19\n",
       "1977.0    23\n",
       "1978.0    23\n",
       "1979.0    23\n",
       "          ..\n",
       "1988.0    24\n",
       "1989.0    26\n",
       "1990.0    28\n",
       "1991.0    28\n",
       "1992.0    28\n",
       "1993.0    28\n",
       "1994.0    28\n",
       "1995.0    28\n",
       "1996.0    30\n",
       "1997.0    30\n",
       "1998.0    30\n",
       "1999.0    30\n",
       "2000.0    30\n",
       "2001.0    30\n",
       "2002.0    30\n",
       "2003.0    30\n",
       "2004.0    30\n",
       "2005.0    31\n",
       "2006.0    31\n",
       "2007.0    31\n",
       "2008.0    31\n",
       "2009.0    31\n",
       "2010.0    31\n",
       "2011.0    31\n",
       "2012.0    31\n",
       "2013.0    31\n",
       "2014.0    31\n",
       "2015.0    31\n",
       "2016.0    31\n",
       "2017.0    31\n",
       "Name: Tm, Length: 68, dtype: int64"
      ]
     },
     "execution_count": 8,
     "metadata": {},
     "output_type": "execute_result"
    }
   ],
   "source": [
    "data.groupby('Year').nunique()['Tm']"
   ]
  }
 ],
 "metadata": {
  "kernelspec": {
   "display_name": "Python 3",
   "language": "python",
   "name": "python3"
  },
  "language_info": {
   "codemirror_mode": {
    "name": "ipython",
    "version": 3
   },
   "file_extension": ".py",
   "mimetype": "text/x-python",
   "name": "python",
   "nbconvert_exporter": "python",
   "pygments_lexer": "ipython3",
   "version": "3.6.4"
  }
 },
 "nbformat": 4,
 "nbformat_minor": 2
}
